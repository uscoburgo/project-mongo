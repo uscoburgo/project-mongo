{
 "cells": [
  {
   "cell_type": "code",
   "execution_count": 407,
   "metadata": {},
   "outputs": [],
   "source": [
    "import requests\n",
    "import pandas as pd\n",
    "import re\n",
    "import seaborn as sns\n",
    "from matplotlib import pyplot as plt\n",
    "from pymongo import MongoClient"
   ]
  },
  {
   "cell_type": "markdown",
   "metadata": {},
   "source": [
    "## I will be using the companies database from Crunchbase, because I believe the US has the best ecosystem for StartUps in general"
   ]
  },
  {
   "cell_type": "code",
   "execution_count": 410,
   "metadata": {},
   "outputs": [],
   "source": [
    "from pymongo import MongoClient\n",
    "\n",
    "client = MongoClient(\"mongodb://localhost/companies\")\n",
    "db = client.get_database()"
   ]
  },
  {
   "cell_type": "markdown",
   "metadata": {},
   "source": [
    " Let's find the companies in the design sector, so that: `Designers like to go to design talks and share knowledge. There must be some nearby companies that also do design.`"
   ]
  },
  {
   "cell_type": "code",
   "execution_count": 411,
   "metadata": {},
   "outputs": [
    {
     "data": {
      "text/plain": [
       "web                 3787\n",
       "software            2736\n",
       "games_video         1083\n",
       "mobile              1018\n",
       "other                986\n",
       "advertising          928\n",
       "enterprise           742\n",
       "ecommerce            688\n",
       "consulting           637\n",
       "network_hosting      626\n",
       "public_relations     533\n",
       "search               394\n",
       "biotech              373\n",
       "hardware             368\n",
       "cleantech            305\n",
       "semiconductor        167\n",
       "security             156\n",
       "analytics             66\n",
       "finance               49\n",
       "social                49\n",
       "news                  48\n",
       "education             36\n",
       "music                 33\n",
       "messaging             30\n",
       "travel                25\n",
       "legal                 25\n",
       "medical               25\n",
       "photo_video           23\n",
       "health                23\n",
       "manufacturing         19\n",
       "sports                13\n",
       "real_estate           10\n",
       "fashion               10\n",
       "automotive             9\n",
       "hospitality            8\n",
       "transportation         7\n",
       "nanotech               5\n",
       "nonprofit              4\n",
       "design                 4\n",
       "local                  1\n",
       "government             1\n",
       "Name: category_code, dtype: int64"
      ]
     },
     "execution_count": 411,
     "metadata": {},
     "output_type": "execute_result"
    }
   ],
   "source": [
    "companies = db.companies.find({})\n",
    "df = pd.DataFrame(list(companies))\n",
    "\n",
    "df[\"category_code\"].value_counts()\n"
   ]
  },
  {
   "cell_type": "markdown",
   "metadata": {},
   "source": [
    "From these categories, I will be focusing on \"design\", \"web\" and \"games_video\" because I believe those are the ones that do design in the same way we do. I will be cleaning the dataframe and then convert it into a json."
   ]
  },
  {
   "cell_type": "code",
   "execution_count": 412,
   "metadata": {},
   "outputs": [],
   "source": [
    "query = {\n",
    "      \"$or\":[\n",
    "        {\"category_code\":\"web\"},\n",
    "        {\"category_code\":\"games_video\"},\n",
    "        {\"category_code\":\"design\"}\n",
    "    ]\n",
    "}\n",
    "\n",
    "companies_design = db.companies.find(query)\n",
    "data = list(companies_design)"
   ]
  },
  {
   "cell_type": "code",
   "execution_count": 413,
   "metadata": {},
   "outputs": [
    {
     "data": {
      "text/plain": [
       "0     $39.8M\n",
       "1         $0\n",
       "2         $0\n",
       "3     $16.5M\n",
       "4     $18.5M\n",
       "5         $0\n",
       "6     $18.1M\n",
       "7     $44.2M\n",
       "8       $45M\n",
       "9     $13.2M\n",
       "10        $0\n",
       "11    $28.3M\n",
       "12     $6.7M\n",
       "13        $0\n",
       "14      $21M\n",
       "15    $69.8M\n",
       "16    $23.4M\n",
       "17       $1M\n",
       "18     $8.4M\n",
       "19        $0\n",
       "Name: total_money_raised, dtype: object"
      ]
     },
     "execution_count": 413,
     "metadata": {},
     "output_type": "execute_result"
    }
   ],
   "source": [
    "df_design = pd.DataFrame(data)\n",
    "df_design[\"total_money_raised\"].head(20)\n",
    "#df_design.shape"
   ]
  },
  {
   "cell_type": "markdown",
   "metadata": {},
   "source": [
    "Now let's find companies that fit this requirement: `Developers like to be near successful tech startups that have raised at least 1 Million dollars`"
   ]
  },
  {
   "cell_type": "code",
   "execution_count": 414,
   "metadata": {},
   "outputs": [
    {
     "data": {
      "text/plain": [
       "0     39.8\n",
       "1     None\n",
       "2     None\n",
       "3     16.5\n",
       "4     18.5\n",
       "5     None\n",
       "6     18.1\n",
       "7     44.2\n",
       "8       45\n",
       "9     13.2\n",
       "10    None\n",
       "11    28.3\n",
       "12     6.7\n",
       "13    None\n",
       "14      21\n",
       "15    69.8\n",
       "16    23.4\n",
       "17        \n",
       "18     8.4\n",
       "19    None\n",
       "Name: total_money_raised, dtype: object"
      ]
     },
     "execution_count": 414,
     "metadata": {},
     "output_type": "execute_result"
    }
   ],
   "source": [
    "# First we have to clean the 'total_money_raised' column: Let's use regex to extrac the number from the string\n",
    "\n",
    "def convertMoneyToInt(txt):\n",
    "    try:\n",
    "        if \"M\" in txt: # to indicate that we only keep Millions\n",
    "            money = re.sub('M', '', txt)\n",
    "            money2 = re.findall(r\"\\d.+\",money)\n",
    "            return \"\".join(money2)\n",
    "        else:\n",
    "            return None\n",
    "    except:\n",
    "        return None\n",
    "    \n",
    "\n",
    "df_design[\"total_money_raised\"] = df_design[\"total_money_raised\"].apply(convertMoneyToInt)\n",
    "df_design[\"total_money_raised\"].head(20)"
   ]
  },
  {
   "cell_type": "code",
   "execution_count": 415,
   "metadata": {},
   "outputs": [
    {
     "data": {
      "text/plain": [
       "(4874, 42)"
      ]
     },
     "execution_count": 415,
     "metadata": {},
     "output_type": "execute_result"
    }
   ],
   "source": [
    "df_design.shape"
   ]
  },
  {
   "cell_type": "code",
   "execution_count": 416,
   "metadata": {
    "scrolled": true
   },
   "outputs": [],
   "source": [
    "df_design.dropna(subset = [\"total_money_raised\"], inplace=True)\n",
    "df_design = df_design.reset_index(drop=True)"
   ]
  },
  {
   "cell_type": "code",
   "execution_count": 417,
   "metadata": {},
   "outputs": [
    {
     "data": {
      "text/plain": [
       "(834, 42)"
      ]
     },
     "execution_count": 417,
     "metadata": {},
     "output_type": "execute_result"
    }
   ],
   "source": [
    "df_design.shape"
   ]
  },
  {
   "cell_type": "code",
   "execution_count": 418,
   "metadata": {},
   "outputs": [
    {
     "data": {
      "text/plain": [
       "0      False\n",
       "1       True\n",
       "2       True\n",
       "3       True\n",
       "4       True\n",
       "       ...  \n",
       "829    False\n",
       "830     True\n",
       "831     True\n",
       "832     True\n",
       "833     True\n",
       "Name: deadpooled_year, Length: 834, dtype: bool"
      ]
     },
     "execution_count": 418,
     "metadata": {},
     "output_type": "execute_result"
    }
   ],
   "source": [
    "df_design.deadpooled_year.isnull()"
   ]
  },
  {
   "cell_type": "markdown",
   "metadata": {},
   "source": [
    "\n",
    "Now we have all the companies in the categories \"Design\", \"Web\", and \"games_video\" that have raised over 1M USD, but we have to take into account that the companies that have been deadpooled cannot be considered as \"succesful\". Therefore, I am removing all the deadpooled companies from the data frame. \n"
   ]
  },
  {
   "cell_type": "code",
   "execution_count": 419,
   "metadata": {},
   "outputs": [],
   "source": [
    "df_design = df_design[df_design.deadpooled_year.isnull() == True]\n",
    "df_design = df_design.reset_index(drop=True)"
   ]
  },
  {
   "cell_type": "code",
   "execution_count": 420,
   "metadata": {},
   "outputs": [
    {
     "data": {
      "text/plain": [
       "(693, 42)"
      ]
     },
     "execution_count": 420,
     "metadata": {},
     "output_type": "execute_result"
    }
   ],
   "source": [
    "df_design.shape"
   ]
  },
  {
   "cell_type": "code",
   "execution_count": 421,
   "metadata": {
    "scrolled": true
   },
   "outputs": [
    {
     "data": {
      "text/plain": [
       "        153\n",
       "10       20\n",
       "1.5      13\n",
       "2.5      11\n",
       "12        8\n",
       "       ... \n",
       "12.5      1\n",
       "28.5      1\n",
       "136       1\n",
       "31.4      1\n",
       "91.5      1\n",
       "Name: total_money_raised, Length: 324, dtype: int64"
      ]
     },
     "execution_count": 421,
     "metadata": {},
     "output_type": "execute_result"
    }
   ],
   "source": [
    "# Let's see what it is that we still have to clean: We can see that there are a lot of blank spaces that weren't erased\n",
    "\n",
    "df_design[\"total_money_raised\"].value_counts()"
   ]
  },
  {
   "cell_type": "code",
   "execution_count": 422,
   "metadata": {},
   "outputs": [
    {
     "data": {
      "text/plain": [
       "0      16.50\n",
       "1      18.50\n",
       "2      18.10\n",
       "3      44.20\n",
       "4      45.00\n",
       "       ...  \n",
       "688     1.70\n",
       "689     6.10\n",
       "690     0.00\n",
       "691    17.20\n",
       "692     1.17\n",
       "Name: total_money_raised, Length: 693, dtype: float64"
      ]
     },
     "execution_count": 422,
     "metadata": {},
     "output_type": "execute_result"
    }
   ],
   "source": [
    "def makeFloat(txt):\n",
    "    try:\n",
    "        return float(txt)\n",
    "    except:\n",
    "        return 0\n",
    "    \n",
    "df_design[\"total_money_raised\"].apply(makeFloat)"
   ]
  },
  {
   "cell_type": "code",
   "execution_count": 423,
   "metadata": {},
   "outputs": [
    {
     "data": {
      "text/plain": [
       "        153\n",
       "10       20\n",
       "1.5      13\n",
       "2.5      11\n",
       "12        8\n",
       "       ... \n",
       "12.5      1\n",
       "28.5      1\n",
       "136       1\n",
       "31.4      1\n",
       "91.5      1\n",
       "Name: total_money_raised, Length: 324, dtype: int64"
      ]
     },
     "execution_count": 423,
     "metadata": {},
     "output_type": "execute_result"
    }
   ],
   "source": [
    "df_design[\"total_money_raised\"].value_counts()"
   ]
  },
  {
   "cell_type": "code",
   "execution_count": 424,
   "metadata": {},
   "outputs": [],
   "source": [
    "#Dropping of the rows with no info for total_money_raised\n",
    "df_design.dropna(subset = [\"total_money_raised\"], inplace=True)"
   ]
  },
  {
   "cell_type": "code",
   "execution_count": 425,
   "metadata": {},
   "outputs": [
    {
     "data": {
      "text/plain": [
       "(693, 42)"
      ]
     },
     "execution_count": 425,
     "metadata": {},
     "output_type": "execute_result"
    }
   ],
   "source": [
    "df_design.shape"
   ]
  },
  {
   "cell_type": "markdown",
   "metadata": {},
   "source": [
    "Now, let's create a new column called state to be able to visualize where are the most succesful startups in the \"web\", \"games_video\", \"design\" categories.\n"
   ]
  },
  {
   "cell_type": "code",
   "execution_count": 426,
   "metadata": {},
   "outputs": [],
   "source": [
    "df_design=df_design.explode('offices')"
   ]
  },
  {
   "cell_type": "code",
   "execution_count": 427,
   "metadata": {},
   "outputs": [
    {
     "data": {
      "text/plain": [
       "(838, 42)"
      ]
     },
     "execution_count": 427,
     "metadata": {},
     "output_type": "execute_result"
    }
   ],
   "source": [
    "df_design.shape"
   ]
  },
  {
   "cell_type": "code",
   "execution_count": 428,
   "metadata": {},
   "outputs": [],
   "source": [
    "def getState(x):\n",
    "    try:\n",
    "        return x[\"state_code\"]\n",
    "    except:\n",
    "        return\"unknown\"\n",
    "    \n",
    "df_design['state'] = df_design[\"offices\"].apply(getState)"
   ]
  },
  {
   "cell_type": "code",
   "execution_count": 429,
   "metadata": {},
   "outputs": [],
   "source": [
    "def getCity(x):\n",
    "    try:\n",
    "        return x[\"city\"]\n",
    "    except:\n",
    "        return\"unknown\"\n",
    "    \n",
    "df_design['city'] = df_design[\"offices\"].apply(getCity)"
   ]
  },
  {
   "cell_type": "code",
   "execution_count": 430,
   "metadata": {
    "scrolled": true
   },
   "outputs": [
    {
     "data": {
      "text/plain": [
       "CA         311\n",
       "NY          95\n",
       "unknown     31\n",
       "MA          25\n",
       "WA          23\n",
       "IL          12\n",
       "TX          11\n",
       "FL          10\n",
       "VA           9\n",
       "PA           8\n",
       "NV           5\n",
       "UT           5\n",
       "GA           4\n",
       "MD           4\n",
       "OH           3\n",
       "IN           3\n",
       "CO           3\n",
       "NC           3\n",
       "CT           3\n",
       "KY           3\n",
       "DC           2\n",
       "WI           2\n",
       "AZ           2\n",
       "TN           1\n",
       "MN           1\n",
       "MI           1\n",
       "OR           1\n",
       "             1\n",
       "NJ           1\n",
       "LA           1\n",
       "AL           1\n",
       "Name: state, dtype: int64"
      ]
     },
     "execution_count": 430,
     "metadata": {},
     "output_type": "execute_result"
    }
   ],
   "source": [
    "df_design.state.value_counts()"
   ]
  },
  {
   "cell_type": "code",
   "execution_count": 438,
   "metadata": {
    "scrolled": true
   },
   "outputs": [
    {
     "data": {
      "text/plain": [
       "San Francisco       101\n",
       "New York             84\n",
       "unknown              31\n",
       "London               27\n",
       "Palo Alto            23\n",
       "Mountain View        23\n",
       "Seattle              21\n",
       "Los Angeles          19\n",
       "                     16\n",
       "Santa Monica         15\n",
       "Paris                14\n",
       "San Mateo            14\n",
       "Beijing              12\n",
       "Sunnyvale            11\n",
       "Redwood City         10\n",
       "Austin                9\n",
       "San Diego             9\n",
       "Berlin                9\n",
       "Boston                8\n",
       "Cambridge             8\n",
       "Chicago               8\n",
       "Tel Aviv              7\n",
       "Stockholm             6\n",
       "Shanghai              6\n",
       "Bangalore             6\n",
       "Singapore             5\n",
       "San Jose              5\n",
       "New York City         4\n",
       "Edinburgh             4\n",
       "Santa Clara           4\n",
       "Culver City           4\n",
       "Ramat Gan             4\n",
       "Brooklyn              4\n",
       "Toronto, Ontario      3\n",
       "Andover               3\n",
       "Champaign             3\n",
       "Buenos Aires          3\n",
       "Seoul                 3\n",
       "Tokyo                 3\n",
       "West Hollywood        3\n",
       "Reston                3\n",
       "Moscow                3\n",
       "Las Vegas             3\n",
       "Sherman Oaks          3\n",
       "Toronto               3\n",
       "Menlo Park            3\n",
       "Dublin                3\n",
       "Vancouver             3\n",
       "Emeryville            3\n",
       "Boca Raton            2\n",
       "Name: city, dtype: int64"
      ]
     },
     "execution_count": 438,
     "metadata": {},
     "output_type": "execute_result"
    }
   ],
   "source": [
    "df_design.city.value_counts().head(50)"
   ]
  },
  {
   "cell_type": "code",
   "execution_count": 432,
   "metadata": {
    "scrolled": true
   },
   "outputs": [
    {
     "data": {
      "text/plain": [
       "(838, 44)"
      ]
     },
     "execution_count": 432,
     "metadata": {},
     "output_type": "execute_result"
    }
   ],
   "source": [
    "df_design.shape"
   ]
  },
  {
   "cell_type": "code",
   "execution_count": 435,
   "metadata": {},
   "outputs": [
    {
     "data": {
      "text/plain": [
       "<Figure size 864x216 with 0 Axes>"
      ]
     },
     "metadata": {},
     "output_type": "display_data"
    },
    {
     "data": {
      "image/png": "[encoded data removed]",
      "text/plain": [
       "<Figure size 432x288 with 1 Axes>"
      ]
     },
     "metadata": {
      "needs_background": "light"
     },
     "output_type": "display_data"
    }
   ],
   "source": [
    "plt.figure(figsize=(12,3))\n",
    "plot=df_design.groupby(\"state\").agg({\"name\":\"count\"}).plot.bar()\n",
    "plt.xticks( rotation=90)\n",
    "plt.title('Succesful companies per state')\n",
    "plt.show()\n",
    "\n"
   ]
  },
  {
   "cell_type": "markdown",
   "metadata": {},
   "source": [
    "#### Based on the number of succesful companies in the categories specified earlier, we can see that CA is the best state for our HQ. Now let's look at the city that best suits us."
   ]
  },
  {
   "cell_type": "code",
   "execution_count": 436,
   "metadata": {},
   "outputs": [
    {
     "data": {
      "text/plain": [
       "<Figure size 864x216 with 0 Axes>"
      ]
     },
     "metadata": {},
     "output_type": "display_data"
    },
    {
     "data": {
      "image/png": "[encoded data removed]",
      "text/plain": [
       "<Figure size 432x288 with 1 Axes>"
      ]
     },
     "metadata": {
      "needs_background": "light"
     },
     "output_type": "display_data"
    }
   ],
   "source": [
    "plt.figure(figsize=(12,3))\n",
    "plot=df_design.groupby(\"state\").agg({\"name\":\"count\"}).plot.bar()\n",
    "plt.xticks( rotation=90)\n",
    "plt.title('Succesful companies per state')\n",
    "plt.show()"
   ]
  },
  {
   "cell_type": "code",
   "execution_count": 437,
   "metadata": {},
   "outputs": [
    {
     "name": "stderr",
     "output_type": "stream",
     "text": [
      "/usr/local/lib/python3.7/site-packages/seaborn/categorical.py:3666: UserWarning: The `factorplot` function has been renamed to `catplot`. The original name will be removed in a future release. Please update your code. Note that the default `kind` in `factorplot` (`'point'`) has changed `'strip'` in `catplot`.\n",
      "  warnings.warn(msg)\n"
     ]
    },
    {
     "ename": "ValueError",
     "evalue": "Neither the `x` nor `y` variable appears to be numeric.",
     "output_type": "error",
     "traceback": [
      "\u001b[0;31m---------------------------------------------------------------------------\u001b[0m",
      "\u001b[0;31mValueError\u001b[0m                                Traceback (most recent call last)",
      "\u001b[0;32m<ipython-input-437-30e4bb975412>\u001b[0m in \u001b[0;36m<module>\u001b[0;34m\u001b[0m\n\u001b[0;32m----> 1\u001b[0;31m \u001b[0msns\u001b[0m\u001b[0;34m.\u001b[0m\u001b[0mfactorplot\u001b[0m\u001b[0;34m(\u001b[0m\u001b[0mx\u001b[0m\u001b[0;34m=\u001b[0m\u001b[0;34m\"state\"\u001b[0m\u001b[0;34m,\u001b[0m \u001b[0my\u001b[0m\u001b[0;34m=\u001b[0m\u001b[0;34m\"total_money_raised\"\u001b[0m\u001b[0;34m,\u001b[0m \u001b[0mhue\u001b[0m\u001b[0;34m=\u001b[0m\u001b[0;34m'category_code'\u001b[0m\u001b[0;34m,\u001b[0m \u001b[0mdata\u001b[0m\u001b[0;34m=\u001b[0m\u001b[0mdf_design\u001b[0m\u001b[0;34m,\u001b[0m \u001b[0mkind\u001b[0m\u001b[0;34m=\u001b[0m\u001b[0;34m'bar'\u001b[0m\u001b[0;34m)\u001b[0m\u001b[0;34m\u001b[0m\u001b[0;34m\u001b[0m\u001b[0m\n\u001b[0m",
      "\u001b[0;32m/usr/local/lib/python3.7/site-packages/seaborn/categorical.py\u001b[0m in \u001b[0;36mfactorplot\u001b[0;34m(*args, **kwargs)\u001b[0m\n\u001b[1;32m   3674\u001b[0m     \u001b[0mkwargs\u001b[0m\u001b[0;34m.\u001b[0m\u001b[0msetdefault\u001b[0m\u001b[0;34m(\u001b[0m\u001b[0;34m\"kind\"\u001b[0m\u001b[0;34m,\u001b[0m \u001b[0;34m\"point\"\u001b[0m\u001b[0;34m)\u001b[0m\u001b[0;34m\u001b[0m\u001b[0;34m\u001b[0m\u001b[0m\n\u001b[1;32m   3675\u001b[0m \u001b[0;34m\u001b[0m\u001b[0m\n\u001b[0;32m-> 3676\u001b[0;31m     \u001b[0;32mreturn\u001b[0m \u001b[0mcatplot\u001b[0m\u001b[0;34m(\u001b[0m\u001b[0;34m*\u001b[0m\u001b[0margs\u001b[0m\u001b[0;34m,\u001b[0m \u001b[0;34m**\u001b[0m\u001b[0mkwargs\u001b[0m\u001b[0;34m)\u001b[0m\u001b[0;34m\u001b[0m\u001b[0;34m\u001b[0m\u001b[0m\n\u001b[0m\u001b[1;32m   3677\u001b[0m \u001b[0;34m\u001b[0m\u001b[0m\n\u001b[1;32m   3678\u001b[0m \u001b[0;34m\u001b[0m\u001b[0m\n",
      "\u001b[0;32m/usr/local/lib/python3.7/site-packages/seaborn/categorical.py\u001b[0m in \u001b[0;36mcatplot\u001b[0;34m(x, y, hue, data, row, col, col_wrap, estimator, ci, n_boot, units, seed, order, hue_order, row_order, col_order, kind, height, aspect, orient, color, palette, legend, legend_out, sharex, sharey, margin_titles, facet_kws, **kwargs)\u001b[0m\n\u001b[1;32m   3721\u001b[0m     \u001b[0;31m# facets to ensure representation of all data in the final plot\u001b[0m\u001b[0;34m\u001b[0m\u001b[0;34m\u001b[0m\u001b[0;34m\u001b[0m\u001b[0m\n\u001b[1;32m   3722\u001b[0m     \u001b[0mp\u001b[0m \u001b[0;34m=\u001b[0m \u001b[0m_CategoricalPlotter\u001b[0m\u001b[0;34m(\u001b[0m\u001b[0;34m)\u001b[0m\u001b[0;34m\u001b[0m\u001b[0;34m\u001b[0m\u001b[0m\n\u001b[0;32m-> 3723\u001b[0;31m     \u001b[0mp\u001b[0m\u001b[0;34m.\u001b[0m\u001b[0mestablish_variables\u001b[0m\u001b[0;34m(\u001b[0m\u001b[0mx_\u001b[0m\u001b[0;34m,\u001b[0m \u001b[0my_\u001b[0m\u001b[0;34m,\u001b[0m \u001b[0mhue\u001b[0m\u001b[0;34m,\u001b[0m \u001b[0mdata\u001b[0m\u001b[0;34m,\u001b[0m \u001b[0morient\u001b[0m\u001b[0;34m,\u001b[0m \u001b[0morder\u001b[0m\u001b[0;34m,\u001b[0m \u001b[0mhue_order\u001b[0m\u001b[0;34m)\u001b[0m\u001b[0;34m\u001b[0m\u001b[0;34m\u001b[0m\u001b[0m\n\u001b[0m\u001b[1;32m   3724\u001b[0m     \u001b[0morder\u001b[0m \u001b[0;34m=\u001b[0m \u001b[0mp\u001b[0m\u001b[0;34m.\u001b[0m\u001b[0mgroup_names\u001b[0m\u001b[0;34m\u001b[0m\u001b[0;34m\u001b[0m\u001b[0m\n\u001b[1;32m   3725\u001b[0m     \u001b[0mhue_order\u001b[0m \u001b[0;34m=\u001b[0m \u001b[0mp\u001b[0m\u001b[0;34m.\u001b[0m\u001b[0mhue_names\u001b[0m\u001b[0;34m\u001b[0m\u001b[0;34m\u001b[0m\u001b[0m\n",
      "\u001b[0;32m/usr/local/lib/python3.7/site-packages/seaborn/categorical.py\u001b[0m in \u001b[0;36mestablish_variables\u001b[0;34m(self, x, y, hue, data, orient, order, hue_order, units)\u001b[0m\n\u001b[1;32m    153\u001b[0m \u001b[0;34m\u001b[0m\u001b[0m\n\u001b[1;32m    154\u001b[0m             \u001b[0;31m# Figure out the plotting orientation\u001b[0m\u001b[0;34m\u001b[0m\u001b[0;34m\u001b[0m\u001b[0;34m\u001b[0m\u001b[0m\n\u001b[0;32m--> 155\u001b[0;31m             \u001b[0morient\u001b[0m \u001b[0;34m=\u001b[0m \u001b[0mself\u001b[0m\u001b[0;34m.\u001b[0m\u001b[0minfer_orient\u001b[0m\u001b[0;34m(\u001b[0m\u001b[0mx\u001b[0m\u001b[0;34m,\u001b[0m \u001b[0my\u001b[0m\u001b[0;34m,\u001b[0m \u001b[0morient\u001b[0m\u001b[0;34m)\u001b[0m\u001b[0;34m\u001b[0m\u001b[0;34m\u001b[0m\u001b[0m\n\u001b[0m\u001b[1;32m    156\u001b[0m \u001b[0;34m\u001b[0m\u001b[0m\n\u001b[1;32m    157\u001b[0m             \u001b[0;31m# Option 2a:\u001b[0m\u001b[0;34m\u001b[0m\u001b[0;34m\u001b[0m\u001b[0;34m\u001b[0m\u001b[0m\n",
      "\u001b[0;32m/usr/local/lib/python3.7/site-packages/seaborn/categorical.py\u001b[0m in \u001b[0;36minfer_orient\u001b[0;34m(self, x, y, orient)\u001b[0m\n\u001b[1;32m    352\u001b[0m         \u001b[0;32melif\u001b[0m \u001b[0mis_not_numeric\u001b[0m\u001b[0;34m(\u001b[0m\u001b[0my\u001b[0m\u001b[0;34m)\u001b[0m\u001b[0;34m:\u001b[0m\u001b[0;34m\u001b[0m\u001b[0;34m\u001b[0m\u001b[0m\n\u001b[1;32m    353\u001b[0m             \u001b[0;32mif\u001b[0m \u001b[0mis_not_numeric\u001b[0m\u001b[0;34m(\u001b[0m\u001b[0mx\u001b[0m\u001b[0;34m)\u001b[0m\u001b[0;34m:\u001b[0m\u001b[0;34m\u001b[0m\u001b[0;34m\u001b[0m\u001b[0m\n\u001b[0;32m--> 354\u001b[0;31m                 \u001b[0;32mraise\u001b[0m \u001b[0mValueError\u001b[0m\u001b[0;34m(\u001b[0m\u001b[0mno_numeric\u001b[0m\u001b[0;34m)\u001b[0m\u001b[0;34m\u001b[0m\u001b[0;34m\u001b[0m\u001b[0m\n\u001b[0m\u001b[1;32m    355\u001b[0m             \u001b[0;32melse\u001b[0m\u001b[0;34m:\u001b[0m\u001b[0;34m\u001b[0m\u001b[0;34m\u001b[0m\u001b[0m\n\u001b[1;32m    356\u001b[0m                 \u001b[0;32mreturn\u001b[0m \u001b[0;34m\"h\"\u001b[0m\u001b[0;34m\u001b[0m\u001b[0;34m\u001b[0m\u001b[0m\n",
      "\u001b[0;31mValueError\u001b[0m: Neither the `x` nor `y` variable appears to be numeric."
     ]
    }
   ],
   "source": [
    "\n",
    "sns.factorplot(x=\"state\", y=\"total_money_raised\", hue='category_code', data=df_design, kind='bar')"
   ]
  },
  {
   "cell_type": "code",
   "execution_count": null,
   "metadata": {},
   "outputs": [],
   "source": []
  }
 ],
 "metadata": {
  "kernelspec": {
   "display_name": "Python 3.7.7 64-bit",
   "language": "python",
   "name": "python37764bit3bf07ec6f5f5414f84b8df9ac5c5f2a2"
  },
  "language_info": {
   "codemirror_mode": {
    "name": "ipython",
    "version": 3
   },
   "file_extension": ".py",
   "mimetype": "text/x-python",
   "name": "python",
   "nbconvert_exporter": "python",
   "pygments_lexer": "ipython3",
   "version": "3.7.7"
  }
 },
 "nbformat": 4,
 "nbformat_minor": 4
}
