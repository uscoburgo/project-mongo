{
 "cells": [
  {
   "cell_type": "code",
   "execution_count": 16,
   "metadata": {},
   "outputs": [],
   "source": [
    "# import the library\n",
    "import json\n",
    "import requests\n",
    "from matplotlib import pyplot as plt\n",
    "from pymongo import MongoClient\n",
    "import os\n",
    "from dotenv import load_dotenv\n",
    "load_dotenv()\n",
    "import pandas as pd\n",
    "import numpy as np"
   ]
  },
  {
   "cell_type": "code",
   "execution_count": 17,
   "metadata": {},
   "outputs": [],
   "source": [
    "def geocode(address):\n",
    "    res = requests.get(f\"https://geocode.xyz/{address}\", params={\"json\":1})\n",
    "    data = res.json()\n",
    "    return {\n",
    "        \"type\":\"Point\",\n",
    "        \"coordinates\":[float(data[\"longt\"]),float(data[\"latt\"])]\n",
    "    }"
   ]
  },
  {
   "cell_type": "code",
   "execution_count": 18,
   "metadata": {},
   "outputs": [
    {
     "data": {
      "text/plain": [
       "{'type': 'Point', 'coordinates': [-122.40438, 37.66873]}"
      ]
     },
     "execution_count": 18,
     "metadata": {},
     "output_type": "execute_result"
    }
   ],
   "source": [
    "# https://geojson.io/#map=16/40.3959/-3.7039\n",
    "# https://geojson.org/\n",
    "sanFrancisco = \"San Francisco\"\n",
    "geocode(sanFrancisco) "
   ]
  },
  {
   "cell_type": "code",
   "execution_count": 19,
   "metadata": {},
   "outputs": [],
   "source": [
    "#Latitud: 37.779026 | Longitud: -122.419906 These coordinates are more accurate"
   ]
  },
  {
   "cell_type": "code",
   "execution_count": 20,
   "metadata": {},
   "outputs": [],
   "source": [
    "def getData(query, page_token=None):\n",
    "    url = \"https://maps.googleapis.com/maps/api/place/textsearch/json\"\n",
    "    params = {\"key\":os.getenv(\"APIKEY_GOOGLE\"), \"query\":query}\n",
    "    if page_token:\n",
    "        params[\"pageToken\"]=page_token\n",
    "    res = requests.get(url, params=params)\n",
    "    res = res.json()\n",
    "    results = res[\"results\"]\n",
    "    if 'next_page_token' in res.keys():\n",
    "        page_token = res['next_page_token']\n",
    "        results=[results, page_token]\n",
    "    else: \n",
    "        results=[results,False]\n",
    "    return results\n",
    "    \n",
    "    \n",
    "def getLocations(query, limit=50):\n",
    "    data = []\n",
    "    page_token = None\n",
    "    while len(data)<limit:\n",
    "        results, page_token = getData(query, page_token)\n",
    "        data += results\n",
    "        if not page_token: \n",
    "            break\n",
    "    return data\n",
    "\n"
   ]
  },
  {
   "cell_type": "code",
   "execution_count": 21,
   "metadata": {},
   "outputs": [
    {
     "data": {
      "text/plain": [
       "1000"
      ]
     },
     "execution_count": 21,
     "metadata": {},
     "output_type": "execute_result"
    }
   ],
   "source": [
    "len(getLocations(\"starbucks in San Francisco\", limit = 1000))"
   ]
  },
  {
   "cell_type": "code",
   "execution_count": 22,
   "metadata": {},
   "outputs": [],
   "source": [
    "df_starbucks = pd.DataFrame(getLocations(\"starbucks in San Francisco\", limit = 1000))"
   ]
  },
  {
   "cell_type": "code",
   "execution_count": 23,
   "metadata": {},
   "outputs": [
    {
     "data": {
      "text/plain": [
       "Starbucks                        950\n",
       "Starbucks California & Kearny     50\n",
       "Name: name, dtype: int64"
      ]
     },
     "execution_count": 23,
     "metadata": {},
     "output_type": "execute_result"
    }
   ],
   "source": [
    "df_starbucks[\"name\"].value_counts()"
   ]
  },
  {
   "cell_type": "code",
   "execution_count": 24,
   "metadata": {},
   "outputs": [],
   "source": [
    "df_schools = pd.DataFrame(getLocations(\"schools in San Francisco\", limit = 1000))"
   ]
  },
  {
   "cell_type": "code",
   "execution_count": 25,
   "metadata": {
    "scrolled": true
   },
   "outputs": [],
   "source": [
    "df_vegan = pd.DataFrame(getLocations(\"vegan restaurants in San Francisco\", limit = 1000))\n"
   ]
  },
  {
   "cell_type": "code",
   "execution_count": 26,
   "metadata": {},
   "outputs": [],
   "source": [
    "df_pepe = pd.DataFrame(getLocations(\"dog hairdresser in San Francisco\", limit = 1000))\n"
   ]
  },
  {
   "cell_type": "code",
   "execution_count": 27,
   "metadata": {},
   "outputs": [],
   "source": [
    "def getlat(x):\n",
    "    try:\n",
    "        return x[\"location\"][\"lat\"]\n",
    "    except:\n",
    "        return\"unknown\"\n",
    "    \n",
    "def getlong(x):\n",
    "    try:\n",
    "        return x[\"location\"][\"lng\"]\n",
    "    except:\n",
    "        return\"unknown\"\n",
    "    \n",
    "    \n",
    "def getlatlong(df):\n",
    "    df['latitude'] = df[\"geometry\"].apply(getlat)\n",
    "    df['longitude'] = df[\"geometry\"].apply(getlong)"
   ]
  },
  {
   "cell_type": "code",
   "execution_count": 28,
   "metadata": {},
   "outputs": [],
   "source": [
    "def transformToGeoPoint(s):\n",
    "    if np.isnan(s.latitude) or np.isnan(s.longitude):\n",
    "        return None\n",
    "    return {\n",
    "        \"type\":\"Point\",\n",
    "        \"coordinates\":[s.longitude, s.latitude]\n",
    "    }\n",
    "    "
   ]
  },
  {
   "cell_type": "code",
   "execution_count": 29,
   "metadata": {},
   "outputs": [],
   "source": [
    "getlatlong(df_pepe)\n",
    "df_pepe[\"geopoint\"] = df_pepe.apply(transformToGeoPoint, axis=1)\n",
    "\n",
    "getlatlong(df_vegan)\n",
    "df_vegan[\"geopoint\"] = df_vegan.apply(transformToGeoPoint, axis=1)\n",
    "\n",
    "getlatlong(df_schools)\n",
    "df_schools[\"geopoint\"] = df_schools.apply(transformToGeoPoint, axis=1)\n",
    "\n",
    "getlatlong(df_starbucks)\n",
    "df_starbucks[\"geopoint\"] = df_starbucks.apply(transformToGeoPoint, axis=1)"
   ]
  },
  {
   "cell_type": "code",
   "execution_count": 30,
   "metadata": {},
   "outputs": [],
   "source": [
    "df_pepe.to_json(\"INPUT/pepe.json\",orient=\"records\")\n",
    "df_vegan.to_json(\"INPUT/vegan.json\",orient=\"records\")\n",
    "df_schools.to_json(\"INPUT/schools.json\",orient=\"records\")\n",
    "df_starbucks.to_json(\"INPUT/starbucks.json\",orient=\"records\")"
   ]
  },
  {
   "cell_type": "code",
   "execution_count": null,
   "metadata": {},
   "outputs": [],
   "source": []
  }
 ],
 "metadata": {
  "kernelspec": {
   "display_name": "Python 3.7.7 64-bit",
   "language": "python",
   "name": "python37764bit3bf07ec6f5f5414f84b8df9ac5c5f2a2"
  },
  "language_info": {
   "codemirror_mode": {
    "name": "ipython",
    "version": 3
   },
   "file_extension": ".py",
   "mimetype": "text/x-python",
   "name": "python",
   "nbconvert_exporter": "python",
   "pygments_lexer": "ipython3",
   "version": "3.7.7"
  }
 },
 "nbformat": 4,
 "nbformat_minor": 4
}
