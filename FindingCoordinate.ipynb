{
 "cells": [
  {
   "cell_type": "code",
   "execution_count": 91,
   "metadata": {},
   "outputs": [],
   "source": [
    "import random\n",
    "from pymongo import MongoClient\n",
    "import pandas as pd\n",
    "import folium"
   ]
  },
  {
   "cell_type": "code",
   "execution_count": null,
   "metadata": {},
   "outputs": [],
   "source": []
  },
  {
   "cell_type": "code",
   "execution_count": 57,
   "metadata": {},
   "outputs": [
    {
     "name": "stdout",
     "output_type": "stream",
     "text": [
      "37.75985202991383\n",
      "-122.43324458478466\n"
     ]
    }
   ],
   "source": [
    "#Taking the mean of a random set of coordinates all in San Francisco\n",
    "\n",
    "lats= [37.7084 + random.random()*(37.8107-37.7084) for n in range(10000)]\n",
    "longs= [-122.3633 - random.random()*( 122.5024 -122.3633) for n in range(10000)]\n",
    "\n",
    "mean_lats = sum(lats)/len(lats)\n",
    "mean_longs = sum(longs)/len(longs)\n",
    "\n",
    "\n",
    "print(mean_lats)\n",
    "print(mean_longs)"
   ]
  },
  {
   "cell_type": "code",
   "execution_count": 58,
   "metadata": {},
   "outputs": [],
   "source": [
    "point=dict()\n",
    "point[\"type\"]=\"Point\"\n",
    "point[\"coordinates\"]=[mean_longs,mean_lats]\n",
    "\n"
   ]
  },
  {
   "cell_type": "code",
   "execution_count": 59,
   "metadata": {},
   "outputs": [
    {
     "data": {
      "text/plain": [
       "{'type': 'Point', 'coordinates': [-122.43324458478466, 37.75985202991383]}"
      ]
     },
     "execution_count": 59,
     "metadata": {},
     "output_type": "execute_result"
    }
   ],
   "source": [
    "point"
   ]
  },
  {
   "cell_type": "code",
   "execution_count": 78,
   "metadata": {},
   "outputs": [
    {
     "data": {
      "text/plain": [
       "{'formatted_address': '4094 18th St, San Francisco, CA 94114, United States',\n",
       " 'name': 'Starbucks',\n",
       " 'latitude': 37.761019,\n",
       " 'longitude': -122.434666}"
      ]
     },
     "execution_count": 78,
     "metadata": {},
     "output_type": "execute_result"
    }
   ],
   "source": [
    "dbName = \"project_mongo\"\n",
    "mongodbURL = f\"mongodb://localhost/{dbName}\"\n",
    "\n",
    "client = MongoClient(mongodbURL, connectTimeoutMS=2000, serverSelectionTimeoutMS=2000)\n",
    "db = client.get_database()\n",
    "\n",
    "\n",
    "\n",
    "query = {\"$and\":\n",
    "          [{ \"geopoint\" :\n",
    "           { \"$near\" :\n",
    "           { \"$geometry\" : point,\n",
    "               \"$maxDistance\" : 2500} } },\n",
    "  ]} \n",
    "\n",
    "projection = {\"_id\":0,\"name\":1,\"formatted_address\":1, \"latitude\":1, \"longitude\":1}\n",
    "\n",
    "\n",
    "cur_starbucks = db.starbucks.find_one(query, projection)\n",
    "cur_starbucks"
   ]
  },
  {
   "cell_type": "code",
   "execution_count": 79,
   "metadata": {},
   "outputs": [
    {
     "data": {
      "text/plain": [
       "{'formatted_address': '150 Oak St, San Francisco, CA 94102, United States',\n",
       " 'name': 'International High School',\n",
       " 'latitude': 37.7753816,\n",
       " 'longitude': -122.4216371}"
      ]
     },
     "execution_count": 79,
     "metadata": {},
     "output_type": "execute_result"
    }
   ],
   "source": [
    "cur_schools = db.schools.find_one(query, projection)\n",
    "cur_schools"
   ]
  },
  {
   "cell_type": "code",
   "execution_count": 80,
   "metadata": {},
   "outputs": [
    {
     "data": {
      "text/plain": [
       "{'formatted_address': '536 Castro St, San Francisco, CA 94114, United States',\n",
       " 'name': \"Mudpuppy's\",\n",
       " 'latitude': 37.7602933,\n",
       " 'longitude': -122.4351867}"
      ]
     },
     "execution_count": 80,
     "metadata": {},
     "output_type": "execute_result"
    }
   ],
   "source": [
    "cur_pepe = db.pepe_hairdresser.find_one(query, projection)\n",
    "cur_pepe"
   ]
  },
  {
   "cell_type": "code",
   "execution_count": 81,
   "metadata": {},
   "outputs": [
    {
     "data": {
      "text/plain": [
       "{'formatted_address': '762 Valencia St, San Francisco, CA 94110, United States',\n",
       " 'name': 'Cha-Ya',\n",
       " 'latitude': 37.760768,\n",
       " 'longitude': -122.421698}"
      ]
     },
     "execution_count": 81,
     "metadata": {},
     "output_type": "execute_result"
    }
   ],
   "source": [
    "cur_vegan = db.vegan.find_one(query, projection)\n",
    "cur_vegan"
   ]
  },
  {
   "cell_type": "code",
   "execution_count": 105,
   "metadata": {},
   "outputs": [
    {
     "data": {
      "text/html": [
       "<div style=\"width:100%;\"><div style=\"position:relative;width:100%;height:0;padding-bottom:60%;\"><span style=\"color:#565656\">Make this Notebook Trusted to load map: File -> Trust Notebook</span><iframe src=\"about:blank\" style=\"position:absolute;width:100%;height:100%;left:0;top:0;border:none !important;\" data-html=PCFET0NUWVBFIGh0bWw+CjxoZWFkPiAgICAKICAgIDxtZXRhIGh0dHAtZXF1aXY9ImNvbnRlbnQtdHlwZSIgY29udGVudD0idGV4dC9odG1sOyBjaGFyc2V0PVVURi04IiAvPgogICAgCiAgICAgICAgPHNjcmlwdD4KICAgICAgICAgICAgTF9OT19UT1VDSCA9IGZhbHNlOwogICAgICAgICAgICBMX0RJU0FCTEVfM0QgPSBmYWxzZTsKICAgICAgICA8L3NjcmlwdD4KICAgIAogICAgPHNjcmlwdCBzcmM9Imh0dHBzOi8vY2RuLmpzZGVsaXZyLm5ldC9ucG0vbGVhZmxldEAxLjYuMC9kaXN0L2xlYWZsZXQuanMiPjwvc2NyaXB0PgogICAgPHNjcmlwdCBzcmM9Imh0dHBzOi8vY29kZS5qcXVlcnkuY29tL2pxdWVyeS0xLjEyLjQubWluLmpzIj48L3NjcmlwdD4KICAgIDxzY3JpcHQgc3JjPSJodHRwczovL21heGNkbi5ib290c3RyYXBjZG4uY29tL2Jvb3RzdHJhcC8zLjIuMC9qcy9ib290c3RyYXAubWluLmpzIj48L3NjcmlwdD4KICAgIDxzY3JpcHQgc3JjPSJodHRwczovL2NkbmpzLmNsb3VkZmxhcmUuY29tL2FqYXgvbGlicy9MZWFmbGV0LmF3ZXNvbWUtbWFya2Vycy8yLjAuMi9sZWFmbGV0LmF3ZXNvbWUtbWFya2Vycy5qcyI+PC9zY3JpcHQ+CiAgICA8bGluayByZWw9InN0eWxlc2hlZXQiIGhyZWY9Imh0dHBzOi8vY2RuLmpzZGVsaXZyLm5ldC9ucG0vbGVhZmxldEAxLjYuMC9kaXN0L2xlYWZsZXQuY3NzIi8+CiAgICA8bGluayByZWw9InN0eWxlc2hlZXQiIGhyZWY9Imh0dHBzOi8vbWF4Y2RuLmJvb3RzdHJhcGNkbi5jb20vYm9vdHN0cmFwLzMuMi4wL2Nzcy9ib290c3RyYXAubWluLmNzcyIvPgogICAgPGxpbmsgcmVsPSJzdHlsZXNoZWV0IiBocmVmPSJodHRwczovL21heGNkbi5ib290c3RyYXBjZG4uY29tL2Jvb3RzdHJhcC8zLjIuMC9jc3MvYm9vdHN0cmFwLXRoZW1lLm1pbi5jc3MiLz4KICAgIDxsaW5rIHJlbD0ic3R5bGVzaGVldCIgaHJlZj0iaHR0cHM6Ly9tYXhjZG4uYm9vdHN0cmFwY2RuLmNvbS9mb250LWF3ZXNvbWUvNC42LjMvY3NzL2ZvbnQtYXdlc29tZS5taW4uY3NzIi8+CiAgICA8bGluayByZWw9InN0eWxlc2hlZXQiIGhyZWY9Imh0dHBzOi8vY2RuanMuY2xvdWRmbGFyZS5jb20vYWpheC9saWJzL0xlYWZsZXQuYXdlc29tZS1tYXJrZXJzLzIuMC4yL2xlYWZsZXQuYXdlc29tZS1tYXJrZXJzLmNzcyIvPgogICAgPGxpbmsgcmVsPSJzdHlsZXNoZWV0IiBocmVmPSJodHRwczovL3Jhd2Nkbi5naXRoYWNrLmNvbS9weXRob24tdmlzdWFsaXphdGlvbi9mb2xpdW0vbWFzdGVyL2ZvbGl1bS90ZW1wbGF0ZXMvbGVhZmxldC5hd2Vzb21lLnJvdGF0ZS5jc3MiLz4KICAgIDxzdHlsZT5odG1sLCBib2R5IHt3aWR0aDogMTAwJTtoZWlnaHQ6IDEwMCU7bWFyZ2luOiAwO3BhZGRpbmc6IDA7fTwvc3R5bGU+CiAgICA8c3R5bGU+I21hcCB7cG9zaXRpb246YWJzb2x1dGU7dG9wOjA7Ym90dG9tOjA7cmlnaHQ6MDtsZWZ0OjA7fTwvc3R5bGU+CiAgICAKICAgICAgICAgICAgPG1ldGEgbmFtZT0idmlld3BvcnQiIGNvbnRlbnQ9IndpZHRoPWRldmljZS13aWR0aCwKICAgICAgICAgICAgICAgIGluaXRpYWwtc2NhbGU9MS4wLCBtYXhpbXVtLXNjYWxlPTEuMCwgdXNlci1zY2FsYWJsZT1ubyIgLz4KICAgICAgICAgICAgPHN0eWxlPgogICAgICAgICAgICAgICAgI21hcF8xNTdjMGM3NjFkODQ0NGYyYjEwODc0ZDlmMWVmMmUwOSB7CiAgICAgICAgICAgICAgICAgICAgcG9zaXRpb246IHJlbGF0aXZlOwogICAgICAgICAgICAgICAgICAgIHdpZHRoOiAxMDAuMCU7CiAgICAgICAgICAgICAgICAgICAgaGVpZ2h0OiAxMDAuMCU7CiAgICAgICAgICAgICAgICAgICAgbGVmdDogMC4wJTsKICAgICAgICAgICAgICAgICAgICB0b3A6IDAuMCU7CiAgICAgICAgICAgICAgICB9CiAgICAgICAgICAgIDwvc3R5bGU+CiAgICAgICAgCjwvaGVhZD4KPGJvZHk+ICAgIAogICAgCiAgICAgICAgICAgIDxkaXYgY2xhc3M9ImZvbGl1bS1tYXAiIGlkPSJtYXBfMTU3YzBjNzYxZDg0NDRmMmIxMDg3NGQ5ZjFlZjJlMDkiID48L2Rpdj4KICAgICAgICAKPC9ib2R5Pgo8c2NyaXB0PiAgICAKICAgIAogICAgICAgICAgICB2YXIgbWFwXzE1N2MwYzc2MWQ4NDQ0ZjJiMTA4NzRkOWYxZWYyZTA5ID0gTC5tYXAoCiAgICAgICAgICAgICAgICAibWFwXzE1N2MwYzc2MWQ4NDQ0ZjJiMTA4NzRkOWYxZWYyZTA5IiwKICAgICAgICAgICAgICAgIHsKICAgICAgICAgICAgICAgICAgICBjZW50ZXI6IFszNy43NTk4NTIwMjk5MTM4MywgLTEyMi40MzMyNDQ1ODQ3ODQ2Nl0sCiAgICAgICAgICAgICAgICAgICAgY3JzOiBMLkNSUy5FUFNHMzg1NywKICAgICAgICAgICAgICAgICAgICB6b29tOiAxMywKICAgICAgICAgICAgICAgICAgICB6b29tQ29udHJvbDogdHJ1ZSwKICAgICAgICAgICAgICAgICAgICBwcmVmZXJDYW52YXM6IGZhbHNlLAogICAgICAgICAgICAgICAgfQogICAgICAgICAgICApOwoKICAgICAgICAgICAgCgogICAgICAgIAogICAgCiAgICAgICAgICAgIHZhciB0aWxlX2xheWVyXzI1NDc5NDcwMDFkMjQ1ZDBhNTAzNTY4YjI4MzU3NTUxID0gTC50aWxlTGF5ZXIoCiAgICAgICAgICAgICAgICAiaHR0cHM6Ly97c30udGlsZS5vcGVuc3RyZWV0bWFwLm9yZy97en0ve3h9L3t5fS5wbmciLAogICAgICAgICAgICAgICAgeyJhdHRyaWJ1dGlvbiI6ICJEYXRhIGJ5IFx1MDAyNmNvcHk7IFx1MDAzY2EgaHJlZj1cImh0dHA6Ly9vcGVuc3RyZWV0bWFwLm9yZ1wiXHUwMDNlT3BlblN0cmVldE1hcFx1MDAzYy9hXHUwMDNlLCB1bmRlciBcdTAwM2NhIGhyZWY9XCJodHRwOi8vd3d3Lm9wZW5zdHJlZXRtYXAub3JnL2NvcHlyaWdodFwiXHUwMDNlT0RiTFx1MDAzYy9hXHUwMDNlLiIsICJkZXRlY3RSZXRpbmEiOiBmYWxzZSwgIm1heE5hdGl2ZVpvb20iOiAxOCwgIm1heFpvb20iOiAxOCwgIm1pblpvb20iOiAwLCAibm9XcmFwIjogZmFsc2UsICJvcGFjaXR5IjogMSwgInN1YmRvbWFpbnMiOiAiYWJjIiwgInRtcyI6IGZhbHNlfQogICAgICAgICAgICApLmFkZFRvKG1hcF8xNTdjMGM3NjFkODQ0NGYyYjEwODc0ZDlmMWVmMmUwOSk7CiAgICAgICAgCiAgICAKICAgICAgICAgICAgdmFyIG1hcmtlcl8wNmYzMmFmMDdiOTE0YmRjYWZjZjQ2MjUwYzIzMWQ3NyA9IEwubWFya2VyKAogICAgICAgICAgICAgICAgWzM3Ljc2MTAxOSwgLTEyMi40MzQ2NjZdLAogICAgICAgICAgICAgICAge30KICAgICAgICAgICAgKS5hZGRUbyhtYXBfMTU3YzBjNzYxZDg0NDRmMmIxMDg3NGQ5ZjFlZjJlMDkpOwogICAgICAgIAogICAgCiAgICAgICAgICAgIHZhciBpY29uXzEwY2JlYWEyMjEzZTRkY2ZiMGI0NTdmZDg3M2JhYWQ4ID0gTC5Bd2Vzb21lTWFya2Vycy5pY29uKAogICAgICAgICAgICAgICAgeyJleHRyYUNsYXNzZXMiOiAiZmEtcm90YXRlLTAiLCAiaWNvbiI6ICJjbG91ZCIsICJpY29uQ29sb3IiOiAid2hpdGUiLCAibWFya2VyQ29sb3IiOiAiYmx1ZSIsICJwcmVmaXgiOiAiZ2x5cGhpY29uIn0KICAgICAgICAgICAgKTsKICAgICAgICAgICAgbWFya2VyXzA2ZjMyYWYwN2I5MTRiZGNhZmNmNDYyNTBjMjMxZDc3LnNldEljb24oaWNvbl8xMGNiZWFhMjIxM2U0ZGNmYjBiNDU3ZmQ4NzNiYWFkOCk7CiAgICAgICAgCiAgICAKICAgICAgICB2YXIgcG9wdXBfODhhZjY2NGUwYTY0NGViOGIxNDkwOTYwNGI3ZDM1NmUgPSBMLnBvcHVwKHsibWF4V2lkdGgiOiAiMTAwJSJ9KTsKCiAgICAgICAgCiAgICAgICAgICAgIHZhciBodG1sX2QyMDBiODhhMjg4MzQxMTliOTA0MjJmYTA3MWRiMTA3ID0gJChgPGRpdiBpZD0iaHRtbF9kMjAwYjg4YTI4ODM0MTE5YjkwNDIyZmEwNzFkYjEwNyIgc3R5bGU9IndpZHRoOiAxMDAuMCU7IGhlaWdodDogMTAwLjAlOyI+U3RhcmJ1Y2tzPC9kaXY+YClbMF07CiAgICAgICAgICAgIHBvcHVwXzg4YWY2NjRlMGE2NDRlYjhiMTQ5MDk2MDRiN2QzNTZlLnNldENvbnRlbnQoaHRtbF9kMjAwYjg4YTI4ODM0MTE5YjkwNDIyZmEwNzFkYjEwNyk7CiAgICAgICAgCgogICAgICAgIG1hcmtlcl8wNmYzMmFmMDdiOTE0YmRjYWZjZjQ2MjUwYzIzMWQ3Ny5iaW5kUG9wdXAocG9wdXBfODhhZjY2NGUwYTY0NGViOGIxNDkwOTYwNGI3ZDM1NmUpCiAgICAgICAgOwoKICAgICAgICAKICAgIAogICAgCiAgICAgICAgICAgIHZhciBtYXJrZXJfN2NmMjU3NWExZjY1NDAwYWE1MDZhMDIxODFiMjk1MDMgPSBMLm1hcmtlcigKICAgICAgICAgICAgICAgIFszNy43NzUzODE2LCAtMTIyLjQyMTYzNzFdLAogICAgICAgICAgICAgICAge30KICAgICAgICAgICAgKS5hZGRUbyhtYXBfMTU3YzBjNzYxZDg0NDRmMmIxMDg3NGQ5ZjFlZjJlMDkpOwogICAgICAgIAogICAgCiAgICAgICAgICAgIHZhciBpY29uXzhhYTFjMGU4Y2YxZjRjODE5NDk4M2YzZGI0N2FkZDUzID0gTC5Bd2Vzb21lTWFya2Vycy5pY29uKAogICAgICAgICAgICAgICAgeyJleHRyYUNsYXNzZXMiOiAiZmEtcm90YXRlLTAiLCAiaWNvbiI6ICJpbmZvLXNpZ24iLCAiaWNvbkNvbG9yIjogIndoaXRlIiwgIm1hcmtlckNvbG9yIjogImdyYXkiLCAicHJlZml4IjogImdseXBoaWNvbiJ9CiAgICAgICAgICAgICk7CiAgICAgICAgICAgIG1hcmtlcl83Y2YyNTc1YTFmNjU0MDBhYTUwNmEwMjE4MWIyOTUwMy5zZXRJY29uKGljb25fOGFhMWMwZThjZjFmNGM4MTk0OTgzZjNkYjQ3YWRkNTMpOwogICAgICAgIAogICAgCiAgICAgICAgdmFyIHBvcHVwX2NhNmRhMjRlZDQzYTRlZTFhZWI1ZmNhYWJkMzIyYTRjID0gTC5wb3B1cCh7Im1heFdpZHRoIjogIjEwMCUifSk7CgogICAgICAgIAogICAgICAgICAgICB2YXIgaHRtbF8yYThmZDNlYWQ4YTg0NDlhOTJkNTRjNTNiMjkzZjc0ZCA9ICQoYDxkaXYgaWQ9Imh0bWxfMmE4ZmQzZWFkOGE4NDQ5YTkyZDU0YzUzYjI5M2Y3NGQiIHN0eWxlPSJ3aWR0aDogMTAwLjAlOyBoZWlnaHQ6IDEwMC4wJTsiPk5lYXJieSBTY2hvb2w8L2Rpdj5gKVswXTsKICAgICAgICAgICAgcG9wdXBfY2E2ZGEyNGVkNDNhNGVlMWFlYjVmY2FhYmQzMjJhNGMuc2V0Q29udGVudChodG1sXzJhOGZkM2VhZDhhODQ0OWE5MmQ1NGM1M2IyOTNmNzRkKTsKICAgICAgICAKCiAgICAgICAgbWFya2VyXzdjZjI1NzVhMWY2NTQwMGFhNTA2YTAyMTgxYjI5NTAzLmJpbmRQb3B1cChwb3B1cF9jYTZkYTI0ZWQ0M2E0ZWUxYWViNWZjYWFiZDMyMmE0YykKICAgICAgICA7CgogICAgICAgIAogICAgCiAgICAKICAgICAgICAgICAgdmFyIG1hcmtlcl80MzYyNTRiNzEyZDE0MmUyOWU0NDUxODhiYWZmY2FmOCA9IEwubWFya2VyKAogICAgICAgICAgICAgICAgWzM3Ljc2MDI5MzMsIC0xMjIuNDM1MTg2N10sCiAgICAgICAgICAgICAgICB7fQogICAgICAgICAgICApLmFkZFRvKG1hcF8xNTdjMGM3NjFkODQ0NGYyYjEwODc0ZDlmMWVmMmUwOSk7CiAgICAgICAgCiAgICAKICAgICAgICAgICAgdmFyIGljb25fN2U2NmM1MzA1MDI1NDc0OGJmNzUyYWU1MGQ3Nzg4N2QgPSBMLkF3ZXNvbWVNYXJrZXJzLmljb24oCiAgICAgICAgICAgICAgICB7ImV4dHJhQ2xhc3NlcyI6ICJmYS1yb3RhdGUtMCIsICJpY29uIjogImluZm8tc2lnbiIsICJpY29uQ29sb3IiOiAid2hpdGUiLCAibWFya2VyQ29sb3IiOiAicmVkIiwgInByZWZpeCI6ICJnbHlwaGljb24ifQogICAgICAgICAgICApOwogICAgICAgICAgICBtYXJrZXJfNDM2MjU0YjcxMmQxNDJlMjllNDQ1MTg4YmFmZmNhZjguc2V0SWNvbihpY29uXzdlNjZjNTMwNTAyNTQ3NDhiZjc1MmFlNTBkNzc4ODdkKTsKICAgICAgICAKICAgIAogICAgICAgIHZhciBwb3B1cF9jNWE3ZTFjZjVjOTc0MjYwOTZmZmEwNGM0MGE4ZjY0MSA9IEwucG9wdXAoeyJtYXhXaWR0aCI6ICIxMDAlIn0pOwoKICAgICAgICAKICAgICAgICAgICAgdmFyIGh0bWxfODM1Y2E4OWU1ZTY1NDdjZjk0YTBmYjBjMmJkNWIxZjEgPSAkKGA8ZGl2IGlkPSJodG1sXzgzNWNhODllNWU2NTQ3Y2Y5NGEwZmIwYzJiZDViMWYxIiBzdHlsZT0id2lkdGg6IDEwMC4wJTsgaGVpZ2h0OiAxMDAuMCU7Ij5QZXBlJ3MgaGFpcmRyZXNzZXI8L2Rpdj5gKVswXTsKICAgICAgICAgICAgcG9wdXBfYzVhN2UxY2Y1Yzk3NDI2MDk2ZmZhMDRjNDBhOGY2NDEuc2V0Q29udGVudChodG1sXzgzNWNhODllNWU2NTQ3Y2Y5NGEwZmIwYzJiZDViMWYxKTsKICAgICAgICAKCiAgICAgICAgbWFya2VyXzQzNjI1NGI3MTJkMTQyZTI5ZTQ0NTE4OGJhZmZjYWY4LmJpbmRQb3B1cChwb3B1cF9jNWE3ZTFjZjVjOTc0MjYwOTZmZmEwNGM0MGE4ZjY0MSkKICAgICAgICA7CgogICAgICAgIAogICAgCiAgICAKICAgICAgICAgICAgdmFyIG1hcmtlcl81YTUyYzE0ODkyOTY0NzRkYjNjZGI0ZjYwMmNhYjg1MSA9IEwubWFya2VyKAogICAgICAgICAgICAgICAgWzM3Ljc2MDc2OCwgLTEyMi40MjE2OThdLAogICAgICAgICAgICAgICAge30KICAgICAgICAgICAgKS5hZGRUbyhtYXBfMTU3YzBjNzYxZDg0NDRmMmIxMDg3NGQ5ZjFlZjJlMDkpOwogICAgICAgIAogICAgCiAgICAgICAgICAgIHZhciBpY29uXzBiNTlkN2MzOTAwNTRiOTdiMDVmMTQ4MjJjYzU3OTI1ID0gTC5Bd2Vzb21lTWFya2Vycy5pY29uKAogICAgICAgICAgICAgICAgeyJleHRyYUNsYXNzZXMiOiAiZmEtcm90YXRlLTAiLCAiaWNvbiI6ICJpbmZvLXNpZ24iLCAiaWNvbkNvbG9yIjogIndoaXRlIiwgIm1hcmtlckNvbG9yIjogImdyZWVuIiwgInByZWZpeCI6ICJnbHlwaGljb24ifQogICAgICAgICAgICApOwogICAgICAgICAgICBtYXJrZXJfNWE1MmMxNDg5Mjk2NDc0ZGIzY2RiNGY2MDJjYWI4NTEuc2V0SWNvbihpY29uXzBiNTlkN2MzOTAwNTRiOTdiMDVmMTQ4MjJjYzU3OTI1KTsKICAgICAgICAKICAgIAogICAgICAgIHZhciBwb3B1cF8zMGM1YWQxNmRjY2E0N2RiOGNkZjc1OWIzNWFmNGQ5NiA9IEwucG9wdXAoeyJtYXhXaWR0aCI6ICIxMDAlIn0pOwoKICAgICAgICAKICAgICAgICAgICAgdmFyIGh0bWxfZWQ3ZjdhMzExNzVkNDBlNmFiODQ4NDQxOWMwMDQ3ODkgPSAkKGA8ZGl2IGlkPSJodG1sX2VkN2Y3YTMxMTc1ZDQwZTZhYjg0ODQ0MTljMDA0Nzg5IiBzdHlsZT0id2lkdGg6IDEwMC4wJTsgaGVpZ2h0OiAxMDAuMCU7Ij5DRU8ncyB2ZWdhbiByZXN0YXVyYW50PC9kaXY+YClbMF07CiAgICAgICAgICAgIHBvcHVwXzMwYzVhZDE2ZGNjYTQ3ZGI4Y2RmNzU5YjM1YWY0ZDk2LnNldENvbnRlbnQoaHRtbF9lZDdmN2EzMTE3NWQ0MGU2YWI4NDg0NDE5YzAwNDc4OSk7CiAgICAgICAgCgogICAgICAgIG1hcmtlcl81YTUyYzE0ODkyOTY0NzRkYjNjZGI0ZjYwMmNhYjg1MS5iaW5kUG9wdXAocG9wdXBfMzBjNWFkMTZkY2NhNDdkYjhjZGY3NTliMzVhZjRkOTYpCiAgICAgICAgOwoKICAgICAgICAKICAgIAogICAgCiAgICAgICAgICAgIHZhciBjaXJjbGVfNDJlZmNhNmVkN2FhNDYyNmEyMTU5OTBjYjY0ZmZlMmQgPSBMLmNpcmNsZSgKICAgICAgICAgICAgICAgIFszNy43NTk4NTIwMjk5MTM4MywgLTEyMi40MzMyNDQ1ODQ3ODQ2Nl0sCiAgICAgICAgICAgICAgICB7ImJ1YmJsaW5nTW91c2VFdmVudHMiOiB0cnVlLCAiY29sb3IiOiAiZ3JheSIsICJkYXNoQXJyYXkiOiBudWxsLCAiZGFzaE9mZnNldCI6IG51bGwsICJmaWxsIjogdHJ1ZSwgImZpbGxDb2xvciI6ICJncmF5IiwgImZpbGxPcGFjaXR5IjogMC4yLCAiZmlsbFJ1bGUiOiAiZXZlbm9kZCIsICJsaW5lQ2FwIjogInJvdW5kIiwgImxpbmVKb2luIjogInJvdW5kIiwgIm9wYWNpdHkiOiAxLjAsICJyYWRpdXMiOiAyMDAwLCAic3Ryb2tlIjogdHJ1ZSwgIndlaWdodCI6IDN9CiAgICAgICAgICAgICkuYWRkVG8obWFwXzE1N2MwYzc2MWQ4NDQ0ZjJiMTA4NzRkOWYxZWYyZTA5KTsKICAgICAgICAKICAgIAogICAgICAgIHZhciBwb3B1cF9mNTFjYmU3MGVjMGY0YmRlOGNhZmEwNWM0OTFmOWIxNSA9IEwucG9wdXAoeyJtYXhXaWR0aCI6ICIxMDAlIn0pOwoKICAgICAgICAKICAgICAgICAgICAgdmFyIGh0bWxfYTUyOTBiYjkxYWJmNDA4OTgwNWFlYmE3MjJjY2YxZGYgPSAkKGA8ZGl2IGlkPSJodG1sX2E1MjkwYmI5MWFiZjQwODk4MDVhZWJhNzIyY2NmMWRmIiBzdHlsZT0id2lkdGg6IDEwMC4wJTsgaGVpZ2h0OiAxMDAuMCU7Ij5yYWRpdXM8L2Rpdj5gKVswXTsKICAgICAgICAgICAgcG9wdXBfZjUxY2JlNzBlYzBmNGJkZThjYWZhMDVjNDkxZjliMTUuc2V0Q29udGVudChodG1sX2E1MjkwYmI5MWFiZjQwODk4MDVhZWJhNzIyY2NmMWRmKTsKICAgICAgICAKCiAgICAgICAgY2lyY2xlXzQyZWZjYTZlZDdhYTQ2MjZhMjE1OTkwY2I2NGZmZTJkLmJpbmRQb3B1cChwb3B1cF9mNTFjYmU3MGVjMGY0YmRlOGNhZmEwNWM0OTFmOWIxNSkKICAgICAgICA7CgogICAgICAgIAogICAgCjwvc2NyaXB0Pg== onload=\"this.contentDocument.open();this.contentDocument.write(atob(this.getAttribute('data-html')));this.contentDocument.close();\" allowfullscreen webkitallowfullscreen mozallowfullscreen></iframe></div></div>"
      ],
      "text/plain": [
       "<folium.folium.Map at 0x10f9a5890>"
      ]
     },
     "execution_count": 105,
     "metadata": {},
     "output_type": "execute_result"
    }
   ],
   "source": [
    "m = folium.Map(\n",
    "    location=[point[\"coordinates\"][1], point[\"coordinates\"][0]],\n",
    "    #tiles='Stamen Toner',\n",
    "    zoom_start=13\n",
    ")\n",
    "    \n",
    "folium.Marker(\n",
    "    location=[cur_starbucks[\"latitude\"], cur_starbucks[\"longitude\"]],\n",
    "    popup='Starbucks',\n",
    "    icon=folium.Icon(icon='cloud')\n",
    ").add_to(m)\n",
    "\n",
    "folium.Marker(\n",
    "    location=[cur_schools[\"latitude\"], cur_schools[\"longitude\"]],\n",
    "    popup='Nearby School',\n",
    "    icon=folium.Icon(color='gray')\n",
    ").add_to(m)\n",
    "\n",
    "folium.Marker(\n",
    "    location=[cur_pepe[\"latitude\"], cur_pepe[\"longitude\"]],\n",
    "    popup=\"Pepe's hairdresser\",\n",
    "    icon=folium.Icon(color='red')\n",
    ").add_to(m)\n",
    "\n",
    "folium.Marker(\n",
    "    location=[cur_vegan[\"latitude\"], cur_vegan[\"longitude\"]],\n",
    "    popup=\"CEO's vegan restaurant\",\n",
    "    icon=folium.Icon(color='green')\n",
    ").add_to(m)\n",
    "\n",
    "folium.Circle(\n",
    "    radius=2000,\n",
    "    location=[point[\"coordinates\"][1], point[\"coordinates\"][0]],\n",
    "    popup='radius',\n",
    "    color='gray',\n",
    "    fill=True,\n",
    ").add_to(m)\n",
    "\n",
    "m"
   ]
  },
  {
   "cell_type": "code",
   "execution_count": null,
   "metadata": {},
   "outputs": [],
   "source": []
  }
 ],
 "metadata": {
  "kernelspec": {
   "display_name": "Python 3.7.7 64-bit",
   "language": "python",
   "name": "python37764bit3bf07ec6f5f5414f84b8df9ac5c5f2a2"
  },
  "language_info": {
   "codemirror_mode": {
    "name": "ipython",
    "version": 3
   },
   "file_extension": ".py",
   "mimetype": "text/x-python",
   "name": "python",
   "nbconvert_exporter": "python",
   "pygments_lexer": "ipython3",
   "version": "3.7.7"
  }
 },
 "nbformat": 4,
 "nbformat_minor": 4
}
